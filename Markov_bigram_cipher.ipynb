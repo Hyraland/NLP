{
 "cells": [
  {
   "cell_type": "code",
   "execution_count": 1,
   "metadata": {},
   "outputs": [
    {
     "name": "stdout",
     "output_type": "stream",
     "text": [
      "Populating the interactive namespace from numpy and matplotlib\n"
     ]
    }
   ],
   "source": [
    "%pylab inline\n",
    "%config InlineBackend.figure_format = 'retina'\n",
    "import numpy as np\n",
    "import matplotlib.pyplot as plt\n",
    "import re\n",
    "from tqdm import tqdm_notebook, tqdm"
   ]
  },
  {
   "cell_type": "code",
   "execution_count": 2,
   "metadata": {},
   "outputs": [],
   "source": [
    "# generate random cipher\n",
    "def randcipher():\n",
    "    ori = np.arange(26)\n",
    "    np.random.shuffle(ori)\n",
    "    cipherbook = {}\n",
    "    for i in range(26):\n",
    "        cipherbook[i] = ori[i]\n",
    "    return cipherbook\n",
    "\n",
    "alphabet = \"abcdefghijklmnopqrstvuwxyz\"\n",
    "alphadict = {}\n",
    "numdict = {}\n",
    "\n",
    "for i,a in enumerate(alphabet):\n",
    "    alphadict[a] = i\n",
    "    numdict[i] = a\n",
    "                \n",
    "class charModel():\n",
    "    def __init__(self):\n",
    "        self.pp = np.zeros((26,26))        \n",
    "        self.p = np.zeros(26)\n",
    "        self.n = 0\n",
    "    def update(self,s):\n",
    "        for i,a in enumerate(s):\n",
    "            if a not in \" 1234567890\\n_\":\n",
    "                self.n += 1\n",
    "                self.p[alphadict[a]] += 1\n",
    "                if i > 0 and s[i-1] not in \" 1234567890\\n_\":\n",
    "                    self.pp[alphadict[s[i-1]]][alphadict[a]] += 1\n",
    "    def getp(self):\n",
    "        return (self.p+1)/(self.n+26)\n",
    "        \n",
    "    def getpp(self):\n",
    "        return np.asarray([(self.pp[i]+1)/(self.p[i]+26) for i in range(26)])\n",
    "\n",
    "\n",
    "        \n",
    "        "
   ]
  },
  {
   "cell_type": "code",
   "execution_count": 3,
   "metadata": {},
   "outputs": [],
   "source": [
    "# get data\n",
    "cipherbook = charModel()\n",
    "\n",
    "filepath = \"/Users/hyraland/Projects/pytorch/TF_2_Notebooks_and_Data/06-NLP-and-Text-Data/melville-moby_dick.txt\"\n",
    "corpus = open(filepath, 'r')\n",
    "for line in corpus.readlines():\n",
    "    wl = re.sub(r'[^\\w\\s]','',line)\n",
    "    wl = wl.lower()\n",
    "    cipherbook.update(wl)\n",
    "pdict = cipherbook.getp()\n",
    "ppdict = cipherbook.getpp()"
   ]
  },
  {
   "cell_type": "code",
   "execution_count": 4,
   "metadata": {},
   "outputs": [
    {
     "name": "stdout",
     "output_type": "stream",
     "text": [
      "(26,)\n",
      "(26, 26)\n"
     ]
    }
   ],
   "source": [
    "print(pdict.shape)\n",
    "print(ppdict.shape)"
   ]
  },
  {
   "cell_type": "code",
   "execution_count": 5,
   "metadata": {},
   "outputs": [],
   "source": [
    "def encoding(s, cdict):\n",
    "    c = \"\"\n",
    "    for a in s:\n",
    "        if a in alphadict:\n",
    "            c+=numdict[cdict[alphadict[a]]]\n",
    "        else:\n",
    "            c+=a\n",
    "    return c\n",
    "        \n",
    "def decoding(s, cinvdict):\n",
    "    c = \"\"\n",
    "    for a in s:\n",
    "        if a in alphadict:\n",
    "            c+=numdict[cinvdict[alphadict[a]]]\n",
    "        else:\n",
    "            c+=a\n",
    "    return c\n",
    "\n",
    "def off_spring(oricdict):\n",
    "    cdict = oricdict.copy()\n",
    "    swap = [0,0]\n",
    "    while swap[0]==swap[1]:\n",
    "        swap = np.random.randint(26,size = 2,)\n",
    "    temp = cdict[swap[0]]\n",
    "    cdict[swap[0]] = cdict[swap[1]]\n",
    "    cdict[swap[1]] = temp\n",
    "    return cdict\n",
    "\n",
    "def get_score(guess):\n",
    "    score = 0\n",
    "    for i,a in enumerate(guess):\n",
    "        if a not in \" 1234567890\\n_\" and a != \" \":\n",
    "            if i > 0 and guess[i-1] not in \" 1234567890\\n_\" and guess[i-1] != \" \":\n",
    "                score += np.log(ppdict[alphadict[guess[i-1]]][alphadict[a]])\n",
    "            else:\n",
    "                score += np.log(pdict[alphadict[a]])\n",
    "    return score"
   ]
  },
  {
   "cell_type": "code",
   "execution_count": 6,
   "metadata": {},
   "outputs": [
    {
     "name": "stdout",
     "output_type": "stream",
     "text": [
      "{0: 24, 1: 16, 2: 20, 3: 18, 4: 2, 5: 14, 6: 1, 7: 9, 8: 25, 9: 15, 10: 22, 11: 5, 12: 17, 13: 3, 14: 21, 15: 6, 16: 23, 17: 7, 18: 19, 19: 0, 20: 4, 21: 11, 22: 13, 23: 8, 24: 12, 25: 10}\n"
     ]
    }
   ],
   "source": [
    "original_message = \"I then lounged down the street and found, as I expected, that there was a mews in a lane which runs down by one wall of the garden. I lent the ostlers a hand in rubbing down their horses, and received in exchange twopence, a glass of half-and-half, two fills of shag tobacco, and as much information as I could desire about Miss Adler, to say nothing of half a dozen other people in the neighbourhood in whom I was not in the least interested, but whose biographies I was compelled to listen to.\"\n",
    "om = re.sub(r'[^\\w\\s]','',original_message)\n",
    "om = om.lower()\n",
    "true_cipher = randcipher()\n",
    "print(true_cipher)\n",
    "code = encoding(om, true_cipher)"
   ]
  },
  {
   "cell_type": "code",
   "execution_count": 7,
   "metadata": {},
   "outputs": [
    {
     "name": "stdout",
     "output_type": "stream",
     "text": [
      "z ajcd fuldbcs sund ajc tahcca yds oulds yt z cigcvacs ajya ajchc nyt y rcnt zd y fydc njzvj hldt sund qm udc nyff uo ajc byhscd z fcda ajc utafcht y jyds zd hlqqzdb sund ajczh juhtct yds hcvczecs zd civjydbc anugcdvc y bfytt uo jyfoydsjyfo anu ozfft uo tjyb auqyvvu yds yt rlvj zdouhryazud yt z vulfs sctzhc yqula rztt ysfch au tym duajzdb uo jyfo y sukcd uajch gcugfc zd ajc dczbjqulhjuus zd njur z nyt dua zd ajc fcyta zdachctacs qla njutc qzubhygjzct z nyt vurgcffcs au fztacd au\n"
     ]
    }
   ],
   "source": [
    "print(code)"
   ]
  },
  {
   "cell_type": "code",
   "execution_count": 8,
   "metadata": {},
   "outputs": [
    {
     "name": "stderr",
     "output_type": "stream",
     "text": [
      "100%|██████████| 1000/1000 [00:28<00:00, 35.05it/s]\n"
     ]
    }
   ],
   "source": [
    "# Genetic Algorithm\n",
    "N = 20\n",
    "epoch = 1000\n",
    "nos = 3\n",
    "Cipher_pool = [randcipher() for i in range(N)]\n",
    "evo_score = np.zeros(epoch)\n",
    "\n",
    "for i in tqdm(range(epoch)):\n",
    "\n",
    "    offspring = []\n",
    "    for cipher in Cipher_pool:\n",
    "        offspring+=[off_spring(cipher) for i in range(nos)]\n",
    "    Cipher_pool += offspring\n",
    "\n",
    "    scores = np.zeros(len(Cipher_pool))\n",
    "    for j, cipher in enumerate(Cipher_pool):\n",
    "        guess = decoding(code, cipher)\n",
    "        scores[j] = get_score(guess)\n",
    "        \n",
    "    evoargs = np.argsort(scores)[-5:]\n",
    "    evo_score[i] = np.mean(scores[evoargs])\n",
    "    newcipher = [Cipher_pool[j] for j in evoargs]\n",
    "    Cipher_pool = newcipher\n",
    "    \n",
    "final_cipher = Cipher_pool[-1]\n",
    "        \n",
    "    "
   ]
  },
  {
   "cell_type": "code",
   "execution_count": 9,
   "metadata": {},
   "outputs": [
    {
     "name": "stdout",
     "output_type": "stream",
     "text": [
      "i then lounged down the street and found as i expected that there was a mews in a lane which runs down by one wall of the garden i lent the ostlers a hand in rubbing down their horses and received in exchange twopence a glass of halfandhalf two fills of shag tobacco and as much information as i could desire about miss adler to say nothing of half a doken other people in the neighbourhood in whom i was not in the least interested but whose biographies i was compelled to listen to\n"
     ]
    }
   ],
   "source": [
    "decode = decoding(code, final_cipher)\n",
    "print(decode)"
   ]
  },
  {
   "cell_type": "code",
   "execution_count": 10,
   "metadata": {},
   "outputs": [
    {
     "name": "stdout",
     "output_type": "stream",
     "text": [
      "i then lounged down the street and found as i expected that there was a mews in a lane which runs down by one wall of the garden i lent the ostlers a hand in rubbing down their horses and received in exchange twopence a glass of halfandhalf two fills of shag tobacco and as much information as i could desire about miss adler to say nothing of half a dozen other people in the neighbourhood in whom i was not in the least interested but whose biographies i was compelled to listen to\n"
     ]
    }
   ],
   "source": [
    "print(om)"
   ]
  },
  {
   "cell_type": "code",
   "execution_count": 11,
   "metadata": {},
   "outputs": [
    {
     "data": {
      "image/png": "[encoded data removed]",
      "text/plain": [
       "<Figure size 432x288 with 1 Axes>"
      ]
     },
     "metadata": {
      "image/png": {
       "height": 248,
       "width": 390
      },
      "needs_background": "light"
     },
     "output_type": "display_data"
    }
   ],
   "source": [
    "true_score = get_score(om)\n",
    "plt.plot(evo_score)\n",
    "plt.plot([true_score]*(len(evo_score)))\n",
    "plt.show()"
   ]
  },
  {
   "cell_type": "code",
   "execution_count": null,
   "metadata": {},
   "outputs": [],
   "source": []
  }
 ],
 "metadata": {
  "kernelspec": {
   "display_name": "Python 3",
   "language": "python",
   "name": "python3"
  },
  "language_info": {
   "codemirror_mode": {
    "name": "ipython",
    "version": 3
   },
   "file_extension": ".py",
   "mimetype": "text/x-python",
   "name": "python",
   "nbconvert_exporter": "python",
   "pygments_lexer": "ipython3",
   "version": "3.7.5"
  }
 },
 "nbformat": 4,
 "nbformat_minor": 4
}
